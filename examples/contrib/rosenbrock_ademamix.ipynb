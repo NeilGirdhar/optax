{
 "cells": [
  {
   "cell_type": "code",
   "execution_count": null,
   "id": "2dae2f1f-939a-4bd6-86ee-ec2dec9e6192",
   "metadata": {},
   "outputs": [],
   "source": [
    "# Recreate AdeMAMix Rosenbrock Plot from Paper\n",
    "This notebook attempts to recreate the Figures 2(b) and 2(c) from "
   ]
  },
  {
   "cell_type": "code",
   "execution_count": 1,
   "id": "55182561-ad63-4fb1-ba21-116ca65c21b1",
   "metadata": {},
   "outputs": [],
   "source": [
    "import matplotlib.pyplot as plt\n",
    "import optax\n",
    "import jax\n",
    "import jax.numpy as jnp"
   ]
  },
  {
   "cell_type": "code",
   "execution_count": 2,
   "id": "15cd3560-d41c-4a97-83c5-b28df4d5d077",
   "metadata": {},
   "outputs": [],
   "source": [
    "import numpy as np\n",
    "import matplotlib.pyplot as plt\n",
    "from mpl_toolkits.mplot3d import Axes3D\n",
    "\n",
    "def rosenbrock(x):\n",
    "    return jnp.square(1 - x[0]) + 100. * jnp.square(x[1] - jnp.square(x[0]))\n",
    "\n",
    "# Create a grid of x and y values\n",
    "#X, Y = np.meshgrid(np.linspace(-1.3, 1.3, 31), np.linspace(-0.9, 1.7, 31))\n",
    "x = jnp.linspace(-5, 10, 1000)\n",
    "y = jnp.linspace(-5, 10, 1000)\n",
    "X, Y = jnp.meshgrid(x, y)\n",
    "\n",
    "# Compute the Rosenbrock function values for each point on the grid\n",
    "Z = rosenbrock([X, Y])"
   ]
  },
  {
   "cell_type": "code",
   "execution_count": null,
   "id": "92b6987c-8ba1-43bc-8083-4c2b6324cb28",
   "metadata": {},
   "outputs": [
    {
     "name": "stdout",
     "output_type": "stream",
     "text": [
      "Objective function:  1616.0\n"
     ]
    }
   ],
   "source": [
    "all_b1_params = []\n",
    "for b1 in [0.9,0.99,0.999,0.9999]:\n",
    "    solver = optax.adam(\n",
    "        learning_rate=0.003,\n",
    "        b1=b1,\n",
    "        b2=0.9999,\n",
    "    )\n",
    "    params = jnp.array([-3.,5.])\n",
    "    print(\"Objective function: \", rosenbrock(params))\n",
    "    all_params=[params]\n",
    "    opt_state = solver.init(params)\n",
    "    for i in range(100000):\n",
    "        grad = jax.grad(rosenbrock)(params)\n",
    "        updates, opt_state = solver.update(grad, opt_state, params)\n",
    "        params = optax.apply_updates(params, updates)\n",
    "        all_params.append(params)\n",
    "        # if i%1000 == 0:\n",
    "        #     print(f\"Objective function at iteration {i} = {rosenbrock(params)}\")\n",
    "    all_b1_params.append(all_params)"
   ]
  },
  {
   "cell_type": "code",
   "execution_count": null,
   "id": "11a4561a-1d92-44ce-bab0-5af22f028167",
   "metadata": {},
   "outputs": [],
   "source": [
    "all_ademamix_params = []\n",
    "for b3 in [0.999,0.9999]:\n",
    "    solver = optax.ademamix(\n",
    "        learning_rate=0.003,\n",
    "        b1=.99,\n",
    "        b2=0.999,\n",
    "        b3=0.9999,\n",
    "    )\n",
    "    params = jnp.array([-3.,5.])\n",
    "    print(\"Objective function: \", rosenbrock(params))\n",
    "    all_params=[params]\n",
    "    opt_state = solver.init(params)\n",
    "    for i in range(100000):\n",
    "        grad = jax.grad(rosenbrock)(params)\n",
    "        updates, opt_state = solver.update(grad, opt_state, params)\n",
    "        params = optax.apply_updates(params, updates)\n",
    "        all_params.append(params)\n",
    "        # if i%1000 == 0:\n",
    "        #     print(f\"Objective function at iteration {i} = {rosenbrock(params)}\")\n",
    "    all_ademamix_params.append(all_params)"
   ]
  },
  {
   "cell_type": "code",
   "execution_count": null,
   "id": "d19aeff7-c908-4c7c-a428-a7846fb3e62a",
   "metadata": {},
   "outputs": [],
   "source": [
    "all_b1_params_array = jnp.array(all_b1_params)"
   ]
  },
  {
   "cell_type": "code",
   "execution_count": null,
   "id": "60ca6921-fa7c-413f-972f-6b1668c72159",
   "metadata": {},
   "outputs": [],
   "source": [
    "all_b1_params_array.shape"
   ]
  },
  {
   "cell_type": "code",
   "execution_count": null,
   "id": "78364e82-f634-4d08-b395-18d34bc64329",
   "metadata": {},
   "outputs": [],
   "source": [
    "all_ademamix_params_array = jnp.array(all_ademamix_params)"
   ]
  },
  {
   "cell_type": "code",
   "execution_count": null,
   "id": "1fdfb913-96c7-4b71-9dcb-177317006049",
   "metadata": {},
   "outputs": [],
   "source": [
    "all_ademamix_params_array.shape"
   ]
  },
  {
   "cell_type": "code",
   "execution_count": null,
   "id": "4b0a0467-02e7-4fd3-84e2-9b70df6ed665",
   "metadata": {},
   "outputs": [],
   "source": [
    "plt.rc('figure', figsize=(20, 10))\n",
    "plt.rc('font', size=14)"
   ]
  },
  {
   "cell_type": "code",
   "execution_count": null,
   "id": "69d8642f-dfcc-4fac-8f85-3ee1fbfa135f",
   "metadata": {},
   "outputs": [],
   "source": [
    "# Create a 3D plot\n",
    "fig = plt.figure()\n",
    "ax = fig.subplots(1,2)\n",
    "ax[0].set_xlabel('x')\n",
    "ax[0].set_ylabel('y')\n",
    "ax[0].set_title('Rosenbrock Function - Adam Trajectories')\n",
    "# Show the plot\n",
    "ax[0].plot([1], [1], 'x', mew=1, markersize=10, color='cyan')\n",
    "ax[0].contourf(X, Y, Z, np.logspace(-1, 3, 100), cmap='jet')\n",
    "for i, b1 in enumerate([0.9,0.99,0.999,0.9999]):\n",
    "    ax[0].plot(all_b1_params_array[i,::100,0], all_b1_params_array[i,::100,1],label=f'Adam b1 = {b1}')\n",
    "ax[0].set_xlim(-4,4)\n",
    "ax[0].set_ylim(-3.5,7.5)\n",
    "ax[0].legend()\n",
    "\n",
    "ax[1].set_xlabel('x')\n",
    "ax[1].set_ylabel('y')\n",
    "ax[1].set_title('Rosenbrock Function - Adam Trajectories')\n",
    "# Show the plot\n",
    "ax[1].plot([1], [1], 'x', mew=1, markersize=10, color='cyan')\n",
    "ax[1].contourf(X, Y, Z, np.logspace(-1, 3, 100), cmap='jet')\n",
    "for i, b3 in enumerate([0.999,0.9999]):\n",
    "    ax[1].plot(all_ademamix_params_array[i,::100,0], all_ademamix_params_array[i,::100,1],label=f'AdEMAMix b3 = {b3}')\n",
    "ax[1].set_xlim(-4,4)\n",
    "ax[1].set_ylim(-3.5,7.5)\n",
    "ax[1].legend()\n",
    "\n",
    "plt.show()"
   ]
  },
  {
   "cell_type": "code",
   "execution_count": null,
   "id": "2cf96de0-cb01-4338-87b4-dd80f0498ebd",
   "metadata": {},
   "outputs": [],
   "source": [
    "print(\n",
    "    all_ademamix_params_array[0,-1,0],all_ademamix_params_array[0,-1,1],\n",
    "    all_ademamix_params_array[1,-1,0],all_ademamix_params_array[1,-1,1]\n",
    ")"
   ]
  },
  {
   "cell_type": "code",
   "execution_count": null,
   "id": "66647d3e-81e2-4987-b5ef-81e08ac048dc",
   "metadata": {},
   "outputs": [],
   "source": []
  }
 ],
 "metadata": {
  "kernelspec": {
   "display_name": "Python 3 (ipykernel)",
   "language": "python",
   "name": "python3"
  },
  "language_info": {
   "codemirror_mode": {
    "name": "ipython",
    "version": 3
   },
   "file_extension": ".py",
   "mimetype": "text/x-python",
   "name": "python",
   "nbconvert_exporter": "python",
   "pygments_lexer": "ipython3",
   "version": "3.11.1"
  }
 },
 "nbformat": 4,
 "nbformat_minor": 5
}
